{
  "cells": [
    {
      "cell_type": "markdown",
      "metadata": {
        "id": "view-in-github",
        "colab_type": "text"
      },
      "source": [
        "<a href=\"https://colab.research.google.com/github/sreent/dense-neural-networks/blob/main/codes/Twitter%20US%20Airline%20Sentiment%20-%20NLP%20Example.ipynb\" target=\"_parent\"><img src=\"https://colab.research.google.com/assets/colab-badge.svg\" alt=\"Open In Colab\"/></a>"
      ]
    },
    {
      "cell_type": "markdown",
      "metadata": {
        "id": "aA8x3gwpadcu"
      },
      "source": [
        " ## Defining the problem and assembling a dataset"
      ]
    },
    {
      "cell_type": "markdown",
      "metadata": {
        "id": "F1WqV-0nadcx"
      },
      "source": [
        "- Kaggle Twitter US Airline Sentiment\n",
        "  - https://www.kaggle.com/datasets/crowdflower/twitter-airline-sentiment\n",
        "- Multi-Class Classification Problem"
      ]
    },
    {
      "cell_type": "markdown",
      "metadata": {
        "id": "k6hTumq5adcx"
      },
      "source": [
        " ## Choosing a measure of success"
      ]
    },
    {
      "cell_type": "markdown",
      "metadata": {
        "id": "BYjtuQtRadcx"
      },
      "source": [
        "- Balanced Accuracy Score\n",
        "- Precision and Recall\n",
        "- AUC"
      ]
    },
    {
      "cell_type": "markdown",
      "metadata": {
        "id": "m0VfZsMcadcx"
      },
      "source": [
        "## Deciding on an evaluation protocol"
      ]
    },
    {
      "cell_type": "markdown",
      "metadata": {
        "id": "hHddNHbUadcx"
      },
      "source": [
        "- Maintaining a hold-out validation set\n",
        "- Doing K-fold cross-validation"
      ]
    },
    {
      "cell_type": "markdown",
      "metadata": {
        "id": "nozwbTr2adcy"
      },
      "source": [
        "## Preparing your data"
      ]
    },
    {
      "cell_type": "code",
      "execution_count": null,
      "metadata": {
        "id": "i4S0tiStcOxV",
        "outputId": "5fdaf782-452b-4106-d297-0067dae24563"
      },
      "outputs": [
        {
          "name": "stderr",
          "output_type": "stream",
          "text": [
            "2023-03-11 09:30:22.839640: I tensorflow/core/platform/cpu_feature_guard.cc:193] This TensorFlow binary is optimized with oneAPI Deep Neural Network Library (oneDNN) to use the following CPU instructions in performance-critical operations:  AVX2 FMA\n",
            "To enable them in other operations, rebuild TensorFlow with the appropriate compiler flags.\n"
          ]
        }
      ],
      "source": [
        "import os\n",
        "os.environ[\"CUDA_VISIBLE_DEVICES\"] = \"-1\"\n",
        "\n",
        "import pandas as pd\n",
        "import numpy as np\n",
        "\n",
        "from sklearn.preprocessing import LabelEncoder\n",
        "from sklearn.model_selection import train_test_split\n",
        "from sklearn.model_selection import StratifiedKFold\n",
        "from sklearn.utils.class_weight import compute_class_weight\n",
        "from sklearn.metrics import accuracy_score, precision_score, recall_score, roc_auc_score\n",
        "from sklearn.metrics import balanced_accuracy_score, confusion_matrix, ConfusionMatrixDisplay\n",
        "from sklearn.feature_extraction.text import TfidfVectorizer\n",
        "\n",
        "import keras\n",
        "from keras.utils import np_utils\n",
        "from keras.models import Sequential, clone_model\n",
        "from keras.layers import Dense, Dropout\n",
        "from keras.callbacks import EarlyStopping\n",
        "from keras.regularizers import l2\n",
        "import tensorflow\n",
        "from tensorflow.keras.optimizers import RMSprop\n",
        "from tensorflow.keras.metrics import Precision, Recall, AUC\n",
        "\n",
        "import itertools\n",
        "import matplotlib.pyplot as plt\n",
        "\n",
        "SEED = 204\n",
        "\n",
        "tensorflow.random.set_seed(SEED)\n",
        "np.random.seed(SEED)\n",
        "\n",
        "import warnings\n",
        "warnings.filterwarnings('ignore')\n",
        "\n",
        "FILE_PATH = '../datasets/Tweets.csv'"
      ]
    },
    {
      "cell_type": "code",
      "execution_count": null,
      "metadata": {
        "id": "PoW9KIrradcz",
        "outputId": "b3c5c5f9-2df0-4f2b-d2e2-7e278f451f6c"
      },
      "outputs": [
        {
          "data": {
            "text/html": [
              "<div>\n",
              "<style scoped>\n",
              "    .dataframe tbody tr th:only-of-type {\n",
              "        vertical-align: middle;\n",
              "    }\n",
              "\n",
              "    .dataframe tbody tr th {\n",
              "        vertical-align: top;\n",
              "    }\n",
              "\n",
              "    .dataframe thead th {\n",
              "        text-align: right;\n",
              "    }\n",
              "</style>\n",
              "<table border=\"1\" class=\"dataframe\">\n",
              "  <thead>\n",
              "    <tr style=\"text-align: right;\">\n",
              "      <th></th>\n",
              "      <th>text</th>\n",
              "      <th>airline_sentiment</th>\n",
              "    </tr>\n",
              "  </thead>\n",
              "  <tbody>\n",
              "    <tr>\n",
              "      <th>0</th>\n",
              "      <td>@VirginAmerica What @dhepburn said.</td>\n",
              "      <td>neutral</td>\n",
              "    </tr>\n",
              "    <tr>\n",
              "      <th>1</th>\n",
              "      <td>@VirginAmerica plus you've added commercials t...</td>\n",
              "      <td>positive</td>\n",
              "    </tr>\n",
              "    <tr>\n",
              "      <th>2</th>\n",
              "      <td>@VirginAmerica I didn't today... Must mean I n...</td>\n",
              "      <td>neutral</td>\n",
              "    </tr>\n",
              "    <tr>\n",
              "      <th>3</th>\n",
              "      <td>@VirginAmerica it's really aggressive to blast...</td>\n",
              "      <td>negative</td>\n",
              "    </tr>\n",
              "    <tr>\n",
              "      <th>4</th>\n",
              "      <td>@VirginAmerica and it's a really big bad thing...</td>\n",
              "      <td>negative</td>\n",
              "    </tr>\n",
              "  </tbody>\n",
              "</table>\n",
              "</div>"
            ],
            "text/plain": [
              "                                                text airline_sentiment\n",
              "0                @VirginAmerica What @dhepburn said.           neutral\n",
              "1  @VirginAmerica plus you've added commercials t...          positive\n",
              "2  @VirginAmerica I didn't today... Must mean I n...           neutral\n",
              "3  @VirginAmerica it's really aggressive to blast...          negative\n",
              "4  @VirginAmerica and it's a really big bad thing...          negative"
            ]
          },
          "execution_count": 3,
          "metadata": {},
          "output_type": "execute_result"
        }
      ],
      "source": [
        "tweets = pd.read_csv(FILE_PATH, sep=',')\n",
        "tweets = tweets[['text', 'airline_sentiment']]\n",
        "\n",
        "tweets.head()"
      ]
    },
    {
      "cell_type": "code",
      "execution_count": null,
      "metadata": {
        "id": "jkBQ75yXadcz"
      },
      "outputs": [],
      "source": [
        "TEST_SIZE = 0.1\n",
        "\n",
        "(tweets_train, tweets_test,\n",
        " sentiment_train, sentiment_test) = train_test_split(tweets['text'], tweets['airline_sentiment'],\n",
        "                                                     test_size=TEST_SIZE, stratify=tweets['airline_sentiment'],\n",
        "                                                     shuffle=True, random_state=SEED)"
      ]
    },
    {
      "cell_type": "code",
      "execution_count": null,
      "metadata": {
        "id": "cLkbGYD-adc0"
      },
      "outputs": [],
      "source": [
        "MAX_FEATURES = 5000\n",
        "NGRAMS = 2\n",
        "\n",
        "tfidf = TfidfVectorizer(ngram_range=(1, NGRAMS), max_features=MAX_FEATURES)\n",
        "tfidf.fit(tweets_train)\n",
        "\n",
        "X_train, X_test = tfidf.transform(tweets_train).toarray(), tfidf.transform(tweets_test).toarray()"
      ]
    },
    {
      "cell_type": "code",
      "execution_count": null,
      "metadata": {
        "id": "-_5DGlwzadc0"
      },
      "outputs": [],
      "source": [
        "label_encoder = LabelEncoder()\n",
        "label_encoder.fit(tweets['airline_sentiment'])\n",
        "\n",
        "y_train = np_utils.to_categorical(label_encoder.transform(sentiment_train))\n",
        "y_test = np_utils.to_categorical(label_encoder.transform(sentiment_test))"
      ]
    },
    {
      "cell_type": "code",
      "execution_count": null,
      "metadata": {
        "id": "4ciWuTy_adc0"
      },
      "outputs": [],
      "source": [
        "VALIDATION_SIZE = X_test.shape[0]\n",
        "\n",
        "X_train, X_val, y_train, y_val = train_test_split(X_train, y_train,\n",
        "                                                 test_size=VALIDATION_SIZE, stratify=y_train,\n",
        "                                                 shuffle=True, random_state=SEED)"
      ]
    },
    {
      "cell_type": "markdown",
      "metadata": {
        "id": "3xZnMudCadc0"
      },
      "source": [
        "##  Developing a model that does better than a baseline"
      ]
    },
    {
      "cell_type": "code",
      "execution_count": null,
      "metadata": {
        "id": "ugO8rVNIadc0",
        "outputId": "e6da53e5-9bb0-4668-88f4-3a572e7c44a7"
      },
      "outputs": [
        {
          "data": {
            "text/html": [
              "<div>\n",
              "<style scoped>\n",
              "    .dataframe tbody tr th:only-of-type {\n",
              "        vertical-align: middle;\n",
              "    }\n",
              "\n",
              "    .dataframe tbody tr th {\n",
              "        vertical-align: top;\n",
              "    }\n",
              "\n",
              "    .dataframe thead th {\n",
              "        text-align: right;\n",
              "    }\n",
              "</style>\n",
              "<table border=\"1\" class=\"dataframe\">\n",
              "  <thead>\n",
              "    <tr style=\"text-align: right;\">\n",
              "      <th></th>\n",
              "      <th>airline_sentiment</th>\n",
              "      <th>text</th>\n",
              "    </tr>\n",
              "  </thead>\n",
              "  <tbody>\n",
              "    <tr>\n",
              "      <th>0</th>\n",
              "      <td>negative</td>\n",
              "      <td>9178</td>\n",
              "    </tr>\n",
              "    <tr>\n",
              "      <th>1</th>\n",
              "      <td>neutral</td>\n",
              "      <td>3099</td>\n",
              "    </tr>\n",
              "    <tr>\n",
              "      <th>2</th>\n",
              "      <td>positive</td>\n",
              "      <td>2363</td>\n",
              "    </tr>\n",
              "  </tbody>\n",
              "</table>\n",
              "</div>"
            ],
            "text/plain": [
              "  airline_sentiment  text\n",
              "0          negative  9178\n",
              "1           neutral  3099\n",
              "2          positive  2363"
            ]
          },
          "execution_count": 8,
          "metadata": {},
          "output_type": "execute_result"
        }
      ],
      "source": [
        "counts = tweets.groupby(['airline_sentiment']).count()\n",
        "counts.reset_index(inplace=True)\n",
        "\n",
        "counts"
      ]
    },
    {
      "cell_type": "code",
      "execution_count": null,
      "metadata": {
        "id": "tB5xZbpMadc0",
        "outputId": "63a3056d-8017-4457-c927-7c0df8ddaacd"
      },
      "outputs": [
        {
          "data": {
            "text/plain": [
              "0.6269125683060109"
            ]
          },
          "execution_count": 9,
          "metadata": {},
          "output_type": "execute_result"
        }
      ],
      "source": [
        "naive_baseline = counts[counts['airline_sentiment']=='negative']['text'].values[0] / counts['text'].sum()\n",
        "\n",
        "naive_baseline"
      ]
    },
    {
      "cell_type": "code",
      "execution_count": null,
      "metadata": {
        "id": "CVFpID9jadc0",
        "outputId": "03486502-ef66-4e99-aada-d9e390e1dbc4"
      },
      "outputs": [
        {
          "data": {
            "text/plain": [
              "{0: 0.5317352220103514, 1: 1.5748285599031868, 2: 2.064516129032258}"
            ]
          },
          "execution_count": 10,
          "metadata": {},
          "output_type": "execute_result"
        }
      ],
      "source": [
        "labels = np.argmax(y_train, axis=1)\n",
        "weights = compute_class_weight('balanced', classes=np.unique(labels), y=labels)\n",
        "CLASS_WEIGHT = dict(enumerate(weights))\n",
        "\n",
        "CLASS_WEIGHT"
      ]
    },
    {
      "cell_type": "code",
      "execution_count": null,
      "metadata": {
        "id": "wn2ZG1Y_adc0",
        "outputId": "63e6ebf1-7b73-42b8-ad80-84885d33bb7e"
      },
      "outputs": [
        {
          "name": "stderr",
          "output_type": "stream",
          "text": [
            "2023-03-11 09:32:28.106170: E tensorflow/compiler/xla/stream_executor/cuda/cuda_driver.cc:267] failed call to cuInit: CUDA_ERROR_NO_DEVICE: no CUDA-capable device is detected\n",
            "2023-03-11 09:32:28.106197: I tensorflow/compiler/xla/stream_executor/cuda/cuda_diagnostics.cc:169] retrieving CUDA diagnostic information for host: snottingham\n",
            "2023-03-11 09:32:28.106202: I tensorflow/compiler/xla/stream_executor/cuda/cuda_diagnostics.cc:176] hostname: snottingham\n",
            "2023-03-11 09:32:28.106260: I tensorflow/compiler/xla/stream_executor/cuda/cuda_diagnostics.cc:200] libcuda reported version is: 510.73.8\n",
            "2023-03-11 09:32:28.106275: I tensorflow/compiler/xla/stream_executor/cuda/cuda_diagnostics.cc:204] kernel reported version is: 510.73.8\n",
            "2023-03-11 09:32:28.106278: I tensorflow/compiler/xla/stream_executor/cuda/cuda_diagnostics.cc:310] kernel version seems to match DSO: 510.73.8\n",
            "2023-03-11 09:32:28.106501: I tensorflow/core/platform/cpu_feature_guard.cc:193] This TensorFlow binary is optimized with oneAPI Deep Neural Network Library (oneDNN) to use the following CPU instructions in performance-critical operations:  AVX2 FMA\n",
            "To enable them in other operations, rebuild TensorFlow with the appropriate compiler flags.\n"
          ]
        }
      ],
      "source": [
        "INPUT_DIMENSION = X_train.shape[1]\n",
        "OUTPUT_CLASSES = y_train.shape[1]\n",
        "\n",
        "OPTIMIZER = 'rmsprop'\n",
        "LOSS_FUNC = 'categorical_crossentropy'\n",
        "METRICS = ['categorical_accuracy',\n",
        "           Precision(name='precision'),\n",
        "           Recall(name='recall'),\n",
        "           AUC(name='auc', multi_label=True)]\n",
        "\n",
        "MONITOR = 'val_loss'\n",
        "PATIENCE = 5\n",
        "\n",
        "EARLY_STOP = EarlyStopping(monitor=MONITOR, restore_best_weights=True, patience=PATIENCE, verbose=0)"
      ]
    },
    {
      "cell_type": "code",
      "execution_count": null,
      "metadata": {
        "id": "cnHet-IDadc1",
        "outputId": "be881af0-f3c7-4eeb-ad6c-82919aba49e2"
      },
      "outputs": [
        {
          "name": "stderr",
          "output_type": "stream",
          "text": [
            "2023-02-19 21:21:11.394653: W tensorflow/compiler/xla/stream_executor/platform/default/dso_loader.cc:64] Could not load dynamic library 'libcuda.so.1'; dlerror: libcuda.so.1: cannot open shared object file: No such file or directory\n",
            "2023-02-19 21:21:11.394681: W tensorflow/compiler/xla/stream_executor/cuda/cuda_driver.cc:265] failed call to cuInit: UNKNOWN ERROR (303)\n",
            "2023-02-19 21:21:11.394703: I tensorflow/compiler/xla/stream_executor/cuda/cuda_diagnostics.cc:156] kernel driver does not appear to be running on this host (snottingham): /proc/driver/nvidia/version does not exist\n",
            "2023-02-19 21:21:11.394944: I tensorflow/core/platform/cpu_feature_guard.cc:193] This TensorFlow binary is optimized with oneAPI Deep Neural Network Library (oneDNN) to use the following CPU instructions in performance-critical operations:  AVX2 FMA\n",
            "To enable them in other operations, rebuild TensorFlow with the appropriate compiler flags.\n"
          ]
        }
      ],
      "source": [
        "INPUT_DIMENSION = X_train.shape[1]\n",
        "OUTPUT_CLASSES = y_train.shape[1]\n",
        "\n",
        "OPTIMIZER = 'rmsprop'\n",
        "LOSS_FUNC = 'categorical_crossentropy'\n",
        "METRICS = ['categorical_accuracy',\n",
        "           tf.keras.metrics.Precision(name='precision'),\n",
        "           tf.keras.metrics.Recall(name='recall'),\n",
        "           tf.keras.metrics.AUC(name='auc', multi_label=True)]"
      ]
    },
    {
      "cell_type": "code",
      "execution_count": null,
      "metadata": {
        "id": "MQqTT-Zzadc1",
        "outputId": "e38450a7-51ef-4387-eeac-d0e84a7f68d1"
      },
      "outputs": [
        {
          "name": "stdout",
          "output_type": "stream",
          "text": [
            "Model: \"baseline\"\n",
            "_________________________________________________________________\n",
            " Layer (type)                Output Shape              Param #   \n",
            "=================================================================\n",
            " dense (Dense)               (None, 3)                 15003     \n",
            "                                                                 \n",
            "=================================================================\n",
            "Total params: 15,003\n",
            "Trainable params: 15,003\n",
            "Non-trainable params: 0\n",
            "_________________________________________________________________\n"
          ]
        }
      ],
      "source": [
        "baseline = Sequential(\n",
        "    [\n",
        "        Dense(OUTPUT_CLASSES, activation='softmax', input_shape=(INPUT_DIMENSION,))\n",
        "    ]\n",
        ")\n",
        "\n",
        "baseline._name = 'baseline'\n",
        "baseline_initial_weights = baseline.get_weights()\n",
        "\n",
        "baseline.summary()"
      ]
    },
    {
      "cell_type": "code",
      "execution_count": null,
      "metadata": {
        "id": "zveTEzk8adc1"
      },
      "outputs": [],
      "source": [
        "batch_size = 512\n",
        "EPOCHS = 100\n",
        "\n",
        "MONITOR = 'val_loss'\n",
        "PATIENCE = 5\n",
        "\n",
        "EARLY_STOP = EarlyStopping(monitor=MONITOR, restore_best_weights=True, patience=PATIENCE, verbose=0)"
      ]
    },
    {
      "cell_type": "code",
      "execution_count": null,
      "metadata": {
        "id": "lP9uldBaadc1"
      },
      "outputs": [],
      "source": [
        "learning_rate = 0.01\n",
        "\n",
        "baseline.compile(optimizer=RMSprop(learning_rate=learning_rate),\n",
        "                 loss=LOSS_FUNC, metrics=METRICS)"
      ]
    },
    {
      "cell_type": "code",
      "execution_count": null,
      "metadata": {
        "id": "hVbbckyKadc1",
        "outputId": "ab59e68d-0774-4e48-cd56-50f13c6d1413"
      },
      "outputs": [
        {
          "name": "stderr",
          "output_type": "stream",
          "text": [
            "2023-03-11 09:33:30.431825: W tensorflow/tsl/framework/cpu_allocator_impl.cc:82] Allocation of 234240000 exceeds 10% of free system memory.\n"
          ]
        }
      ],
      "source": [
        "EPOCHS = 100\n",
        "batch_size=512\n",
        "\n",
        "baseline.set_weights(baseline_initial_weights)\n",
        "\n",
        "baseline_history = baseline.fit(X_train, y_train,\n",
        "                                class_weight=CLASS_WEIGHT,\n",
        "                                batch_size=batch_size, epochs=EPOCHS,\n",
        "                                validation_data=(X_val, y_val),\n",
        "                                callbacks=[EARLY_STOP],\n",
        "                                verbose=0)"
      ]
    },
    {
      "cell_type": "code",
      "execution_count": null,
      "metadata": {
        "id": "LnJPvcqZadc1",
        "outputId": "665e1cbe-4d5a-46ed-fa9d-3cfa1ff6fa80"
      },
      "outputs": [
        {
          "name": "stdout",
          "output_type": "stream",
          "text": [
            "Accuracy (Validation): 0.80 (Naive Baseline=0.63)\n",
            "Precision (Validation): 0.83\n",
            "Recall (Validation): 0.77\n",
            "AUC (Validation): 0.92\n"
          ]
        }
      ],
      "source": [
        "baseline_scores = baseline.evaluate(X_val, y_val, verbose=0)[1:]\n",
        "\n",
        "print('Accuracy (Validation): {:.2f} (Naive Baseline={:.2f})'.format(baseline_scores[0], naive_baseline))\n",
        "print('Precision (Validation): {:.2f}'.format(baseline_scores[1]))\n",
        "print('Recall (Validation): {:.2f}'.format(baseline_scores[2]))\n",
        "print('AUC (Validation): {:.2f}'.format(baseline_scores[3]))"
      ]
    },
    {
      "cell_type": "code",
      "execution_count": null,
      "metadata": {
        "id": "iG30EP1Fadc1",
        "outputId": "0ff2230c-b311-4c22-957f-571547b5b31c"
      },
      "outputs": [
        {
          "name": "stdout",
          "output_type": "stream",
          "text": [
            "Balanced Accuracy (Validation): 0.78 (baseline = 0.33)\n"
          ]
        }
      ],
      "source": [
        "preds = trained_slp_model['model'].predict(X_val, verbose=0).argmax(axis=1)\n",
        "\n",
        "print('Balanced Accuracy (Validation): {:.2f} (baseline = 0.33)'.format(balanced_accuracy_score(y_val.argmax(axis=1), preds)))"
      ]
    },
    {
      "cell_type": "code",
      "execution_count": null,
      "metadata": {
        "id": "dNzQH9Srwt5R"
      },
      "outputs": [],
      "source": [
        "def plot_training_history(history, monitor='loss') :\n",
        "    loss, val_loss = history.history[monitor], history.history['val_' + monitor]\n",
        "\n",
        "    epochs = range(1, len(loss)+1)\n",
        "\n",
        "    plt.plot(epochs, loss, 'b.', label=monitor)\n",
        "    plt.plot(epochs, val_loss, 'r.', label='Validation ' + monitor)\n",
        "    plt.xlim([0, len(loss)])\n",
        "    plt.title('Training and Validation ' + monitor + 's')\n",
        "    plt.xlabel('Epochs')\n",
        "    plt.ylabel(monitor)\n",
        "    plt.legend()\n",
        "    plt.grid()\n",
        "    _ = plt.show()"
      ]
    },
    {
      "cell_type": "code",
      "execution_count": null,
      "metadata": {
        "colab": {
          "base_uri": "https://localhost:8080/",
          "height": 350
        },
        "id": "xT6SBVGW0dEA",
        "outputId": "55f3b135-788f-4741-b1f9-5882bbada568"
      },
      "outputs": [
        {
          "data": {
            "image/png": "[encoded data removed]",
            "text/plain": [
              "<Figure size 640x480 with 1 Axes>"
            ]
          },
          "metadata": {},
          "output_type": "display_data"
        }
      ],
      "source": [
        "plot_training_history(baseline_history, monitor='loss')"
      ]
    },
    {
      "cell_type": "markdown",
      "metadata": {
        "id": "c5lWxdVsadc2"
      },
      "source": [
        " ## Scaling up: developing a model that overfits"
      ]
    },
    {
      "cell_type": "code",
      "execution_count": null,
      "metadata": {
        "id": "pA5Lh-r-adc2",
        "outputId": "c0fd8e99-8823-4d0f-9c3a-d81f18febfb8"
      },
      "outputs": [
        {
          "name": "stdout",
          "output_type": "stream",
          "text": [
            "Model: \"overfit\"\n",
            "_________________________________________________________________\n",
            " Layer (type)                Output Shape              Param #   \n",
            "=================================================================\n",
            " dense_1 (Dense)             (None, 64)                320064    \n",
            "                                                                 \n",
            " dense_2 (Dense)             (None, 3)                 195       \n",
            "                                                                 \n",
            "=================================================================\n",
            "Total params: 320,259\n",
            "Trainable params: 320,259\n",
            "Non-trainable params: 0\n",
            "_________________________________________________________________\n"
          ]
        }
      ],
      "source": [
        "\n",
        "overfit = Sequential(\n",
        "    [\n",
        "        Dense(64, activation='relu', input_shape=(INPUT_DIMENSION,)),\n",
        "        Dense(OUTPUT_CLASSES, activation='softmax')\n",
        "    ]\n",
        ")\n",
        "\n",
        "overfit_initial_weights = overfit.get_weights()\n",
        "overfit._name = 'overfit'\n",
        "\n",
        "overfit.summary()"
      ]
    },
    {
      "cell_type": "code",
      "execution_count": null,
      "metadata": {
        "id": "5dNAP2OWadc2"
      },
      "outputs": [],
      "source": [
        "learning_rate = 0.0025\n",
        "\n",
        "overfit.compile(optimizer=RMSprop(learning_rate=learning_rate),\n",
        "                loss=LOSS_FUNC, metrics=METRICS)\n",
        "\n",
        "overfit.set_weights(overfit_initial_weights)"
      ]
    },
    {
      "cell_type": "code",
      "execution_count": null,
      "metadata": {
        "id": "1DltJI9Hadc2",
        "outputId": "21af492b-75d8-473d-be49-ddad4cd0a96b"
      },
      "outputs": [
        {
          "name": "stderr",
          "output_type": "stream",
          "text": [
            "2023-03-11 09:35:05.437266: W tensorflow/tsl/framework/cpu_allocator_impl.cc:82] Allocation of 234240000 exceeds 10% of free system memory.\n"
          ]
        }
      ],
      "source": [
        "EPOCHS = 100\n",
        "batch_size=512\n",
        "\n",
        "overfit.set_weights(overfit_initial_weights)\n",
        "\n",
        "overfit_history = overfit.fit(X_train, y_train,\n",
        "                              class_weight=CLASS_WEIGHT,\n",
        "                              batch_size=batch_size, epochs=EPOCHS,\n",
        "                              validation_data=(X_val, y_val),\n",
        "                              callbacks=[],\n",
        "                              verbose=0)"
      ]
    },
    {
      "cell_type": "code",
      "execution_count": null,
      "metadata": {
        "id": "fLHBrmVFadc2",
        "outputId": "449d877a-4ea8-4656-8867-44f7c09c7042"
      },
      "outputs": [
        {
          "name": "stdout",
          "output_type": "stream",
          "text": [
            "Accuracy (Validation): 0.77 (Naive Baseline = 0.63)\n",
            "Precision (Validation): 0.77\n",
            "Recall (Validation): 0.77\n",
            "AUC (Validation): 0.85\n"
          ]
        }
      ],
      "source": [
        "overfit_scores = overfit.evaluate(X_val, y_val, verbose=0)[1:]\n",
        "\n",
        "print('Accuracy (Validation): {:.2f} (Naive Baseline = {:.2f})'.format(overfit_scores[0], naive_baseline))\n",
        "print('Precision (Validation): {:.2f}'.format(overfit_scores[1]))\n",
        "print('Recall (Validation): {:.2f}'.format(overfit_scores[2]))\n",
        "print('AUC (Validation): {:.2f}'.format(overfit_scores[3]))"
      ]
    },
    {
      "cell_type": "code",
      "execution_count": null,
      "metadata": {
        "id": "qjCvnOaFadc2",
        "outputId": "b6b9d95a-d3e8-41e1-9660-aa9d715c93d7"
      },
      "outputs": [
        {
          "data": {
            "image/png": "[encoded data removed]",
            "text/plain": [
              "<Figure size 640x480 with 1 Axes>"
            ]
          },
          "metadata": {},
          "output_type": "display_data"
        }
      ],
      "source": [
        "plot_training_history(overfit_history, monitor='loss')"
      ]
    },
    {
      "cell_type": "markdown",
      "metadata": {
        "id": "wRP9W9azadc2"
      },
      "source": [
        " ## Regularizing your model and tuning your hyperparameters"
      ]
    },
    {
      "cell_type": "code",
      "execution_count": null,
      "metadata": {
        "id": "ZYqN9eJfadc2",
        "outputId": "92234ac3-2ad8-4763-f906-a7b4896f1370"
      },
      "outputs": [
        {
          "name": "stdout",
          "output_type": "stream",
          "text": [
            "Model: \"deep\"\n",
            "_________________________________________________________________\n",
            " Layer (type)                Output Shape              Param #   \n",
            "=================================================================\n",
            " dense_3 (Dense)             (None, 64)                320064    \n",
            "                                                                 \n",
            " dropout (Dropout)           (None, 64)                0         \n",
            "                                                                 \n",
            " dense_4 (Dense)             (None, 3)                 195       \n",
            "                                                                 \n",
            "=================================================================\n",
            "Total params: 320,259\n",
            "Trainable params: 320,259\n",
            "Non-trainable params: 0\n",
            "_________________________________________________________________\n"
          ]
        }
      ],
      "source": [
        "# over-sized model - neural network architecture that can overfit the data\n",
        "deep = Sequential(\n",
        "    [\n",
        "        Dense(64, activation='relu', input_shape=(INPUT_DIMENSION,)),\n",
        "        Dropout(0.5),\n",
        "        Dense(OUTPUT_CLASSES, activation='softmax')\n",
        "    ]\n",
        ")\n",
        "\n",
        "deep._name = 'deep'\n",
        "\n",
        "deep.summary()"
      ]
    },
    {
      "cell_type": "code",
      "execution_count": null,
      "metadata": {
        "scrolled": true,
        "id": "w0r1OCCGadc2",
        "outputId": "02305f47-8bde-407a-bd52-3c97171d6838"
      },
      "outputs": [
        {
          "name": "stdout",
          "output_type": "stream",
          "text": [
            "Model: \"wider\"\n",
            "_________________________________________________________________\n",
            " Layer (type)                Output Shape              Param #   \n",
            "=================================================================\n",
            " dense_7 (Dense)             (None, 128)               640128    \n",
            "                                                                 \n",
            " dropout_2 (Dropout)         (None, 128)               0         \n",
            "                                                                 \n",
            " dense_8 (Dense)             (None, 3)                 387       \n",
            "                                                                 \n",
            "=================================================================\n",
            "Total params: 640,515\n",
            "Trainable params: 640,515\n",
            "Non-trainable params: 0\n",
            "_________________________________________________________________\n"
          ]
        }
      ],
      "source": [
        "wider = Sequential(\n",
        "    [\n",
        "        Dense(128, activation='relu', input_shape=(INPUT_DIMENSION,)),\n",
        "        Dropout(0.5),\n",
        "        Dense(OUTPUT_CLASSES, activation='softmax')\n",
        "    ]\n",
        ")\n",
        "\n",
        "wider._name = 'wider'\n",
        "\n",
        "wider.summary()"
      ]
    },
    {
      "cell_type": "code",
      "execution_count": null,
      "metadata": {
        "id": "XLDGPQNxadc2",
        "outputId": "505cc839-27a9-4512-e16a-daceee67ed26"
      },
      "outputs": [
        {
          "name": "stdout",
          "output_type": "stream",
          "text": [
            "Model: \"deeper\"\n",
            "_________________________________________________________________\n",
            " Layer (type)                Output Shape              Param #   \n",
            "=================================================================\n",
            " dense_9 (Dense)             (None, 64)                320064    \n",
            "                                                                 \n",
            " dropout_3 (Dropout)         (None, 64)                0         \n",
            "                                                                 \n",
            " dense_10 (Dense)            (None, 64)                4160      \n",
            "                                                                 \n",
            " dropout_4 (Dropout)         (None, 64)                0         \n",
            "                                                                 \n",
            " dense_11 (Dense)            (None, 3)                 195       \n",
            "                                                                 \n",
            "=================================================================\n",
            "Total params: 324,419\n",
            "Trainable params: 324,419\n",
            "Non-trainable params: 0\n",
            "_________________________________________________________________\n"
          ]
        }
      ],
      "source": [
        "deeper = Sequential(\n",
        "    [\n",
        "        Dense(64, activation='relu', input_shape=(INPUT_DIMENSION,)),\n",
        "        Dropout(0.5),\n",
        "        Dense(64, activation='relu'),\n",
        "        Dropout(0.5),\n",
        "        Dense(OUTPUT_CLASSES, activation='softmax')\n",
        "    ]\n",
        ")\n",
        "\n",
        "deeper._name = 'deeper'\n",
        "\n",
        "deeper.summary()"
      ]
    },
    {
      "cell_type": "code",
      "execution_count": null,
      "metadata": {
        "id": "jdf5ULPOadc3"
      },
      "outputs": [],
      "source": [
        "def cross_validation(X, y,\n",
        "                     class_weight,\n",
        "                     params, kfolds, epochs,\n",
        "                     callbacks, seed=0) :\n",
        "    evaluations = []\n",
        "    for train, validate in kfolds.split(X, y.argmax(axis=1)) :\n",
        "        model = clone_model(params['model'])\n",
        "\n",
        "        for layer in model.layers :\n",
        "            if type(layer) == keras.layers.regularization.dropout.Dropout :\n",
        "                layer.rate = params['dropout']\n",
        "\n",
        "        model.compile(optimizer=RMSprop(learning_rate=params['learning_rate']),\n",
        "                      loss=LOSS_FUNC, metrics=METRICS)\n",
        "\n",
        "        history = model.fit(X[train,:], y[train,:],\n",
        "                            class_weight=class_weight,\n",
        "                            batch_size=params['batch_size'], epochs=epochs,\n",
        "                            validation_data=(X[validate,:], y[validate,:]),\n",
        "                            callbacks=callbacks,\n",
        "                            verbose=0)\n",
        "\n",
        "        evaluation = model.evaluate(X_val, y_val, verbose=0)[1:]\n",
        "        evaluations.append( evaluation )\n",
        "\n",
        "    return np.mean(evaluations, axis=0)"
      ]
    },
    {
      "cell_type": "code",
      "execution_count": null,
      "metadata": {
        "id": "seDz_1U9adc3"
      },
      "outputs": [],
      "source": [
        "def grid_search_cv(X, y,\n",
        "                   class_weight,\n",
        "                   search_space, cv,\n",
        "                   epochs, callbacks=[], seed=0) :\n",
        "\n",
        "    keys, values = zip(*search_space.items())\n",
        "\n",
        "    kfolds = StratifiedKFold(n_splits=cv, shuffle=True, random_state=seed)\n",
        "\n",
        "    stats = {}\n",
        "    for params in [dict(zip(keys, v)) for v in itertools.product(*values)] :\n",
        "\n",
        "        scores = cross_validation(X, y, class_weight,\n",
        "                                  params, kfolds, epochs,\n",
        "                                  callbacks, seed)\n",
        "\n",
        "        params['model'] = params['model']._name\n",
        "\n",
        "        stats[str(params)] = scores\n",
        "\n",
        "    return stats"
      ]
    },
    {
      "cell_type": "code",
      "execution_count": null,
      "metadata": {
        "id": "rn9JYQstadc6"
      },
      "outputs": [],
      "source": [
        "# our search space\n",
        "params = {\n",
        "    'model': [deep, wider, deeper],\n",
        "    'dropout': [0.25, 0.5],\n",
        "    'learning_rate': [0.0025, 0.005],\n",
        "    'batch_size': [512]\n",
        "}\n",
        "\n",
        "EPOCHS = 500\n",
        "KFOLDS = 5"
      ]
    },
    {
      "cell_type": "code",
      "execution_count": null,
      "metadata": {
        "id": "h8cOVI-3adc6",
        "outputId": "3091a744-e8b7-4d9c-d9bc-1a17082f938c"
      },
      "outputs": [
        {
          "name": "stderr",
          "output_type": "stream",
          "text": [
            "2023-03-11 09:38:07.311029: W tensorflow/tsl/framework/cpu_allocator_impl.cc:82] Allocation of 187380000 exceeds 10% of free system memory.\n",
            "2023-03-11 09:38:13.508979: W tensorflow/tsl/framework/cpu_allocator_impl.cc:82] Allocation of 187380000 exceeds 10% of free system memory.\n",
            "2023-03-11 09:38:21.031183: W tensorflow/tsl/framework/cpu_allocator_impl.cc:82] Allocation of 187400000 exceeds 10% of free system memory.\n"
          ]
        }
      ],
      "source": [
        "stats = grid_search_cv(X_train, y_train,\n",
        "                       class_weight=CLASS_WEIGHT,\n",
        "                       search_space=params, cv=KFOLDS, epochs=EPOCHS,\n",
        "                       callbacks=[EARLY_STOP], seed=SEED)"
      ]
    },
    {
      "cell_type": "code",
      "execution_count": null,
      "metadata": {
        "id": "znzyaMRwadc6"
      },
      "outputs": [],
      "source": [
        "def dict_to_dataframe(stats) :\n",
        "    entries = []\n",
        "    for key, value in stats.items() :\n",
        "        entry = eval(key)\n",
        "\n",
        "        metrics = ['accuracy', 'precision', 'recall', 'auc']\n",
        "        for metric, score in zip(metrics, value) :\n",
        "            entry[metric] = score\n",
        "\n",
        "        entries.append(entry)\n",
        "\n",
        "    return pd.DataFrame(entries)"
      ]
    },
    {
      "cell_type": "code",
      "execution_count": null,
      "metadata": {
        "id": "mHcumxbfadc7",
        "outputId": "39f6dd7a-800c-453c-ff5f-c7f301ef121c"
      },
      "outputs": [
        {
          "data": {
            "text/html": [
              "<div>\n",
              "<style scoped>\n",
              "    .dataframe tbody tr th:only-of-type {\n",
              "        vertical-align: middle;\n",
              "    }\n",
              "\n",
              "    .dataframe tbody tr th {\n",
              "        vertical-align: top;\n",
              "    }\n",
              "\n",
              "    .dataframe thead th {\n",
              "        text-align: right;\n",
              "    }\n",
              "</style>\n",
              "<table border=\"1\" class=\"dataframe\">\n",
              "  <thead>\n",
              "    <tr style=\"text-align: right;\">\n",
              "      <th></th>\n",
              "      <th>model</th>\n",
              "      <th>dropout</th>\n",
              "      <th>learning_rate</th>\n",
              "      <th>batch_size</th>\n",
              "      <th>accuracy</th>\n",
              "      <th>precision</th>\n",
              "      <th>recall</th>\n",
              "      <th>auc</th>\n",
              "    </tr>\n",
              "  </thead>\n",
              "  <tbody>\n",
              "    <tr>\n",
              "      <th>10</th>\n",
              "      <td>deeper</td>\n",
              "      <td>0.50</td>\n",
              "      <td>0.0025</td>\n",
              "      <td>512</td>\n",
              "      <td>0.805874</td>\n",
              "      <td>0.824236</td>\n",
              "      <td>0.782240</td>\n",
              "      <td>0.916996</td>\n",
              "    </tr>\n",
              "    <tr>\n",
              "      <th>3</th>\n",
              "      <td>deep</td>\n",
              "      <td>0.50</td>\n",
              "      <td>0.0050</td>\n",
              "      <td>512</td>\n",
              "      <td>0.808333</td>\n",
              "      <td>0.830886</td>\n",
              "      <td>0.777869</td>\n",
              "      <td>0.916431</td>\n",
              "    </tr>\n",
              "    <tr>\n",
              "      <th>2</th>\n",
              "      <td>deep</td>\n",
              "      <td>0.50</td>\n",
              "      <td>0.0025</td>\n",
              "      <td>512</td>\n",
              "      <td>0.798224</td>\n",
              "      <td>0.824514</td>\n",
              "      <td>0.771448</td>\n",
              "      <td>0.916407</td>\n",
              "    </tr>\n",
              "    <tr>\n",
              "      <th>7</th>\n",
              "      <td>wider</td>\n",
              "      <td>0.50</td>\n",
              "      <td>0.0050</td>\n",
              "      <td>512</td>\n",
              "      <td>0.808470</td>\n",
              "      <td>0.827209</td>\n",
              "      <td>0.785383</td>\n",
              "      <td>0.916170</td>\n",
              "    </tr>\n",
              "    <tr>\n",
              "      <th>0</th>\n",
              "      <td>deep</td>\n",
              "      <td>0.25</td>\n",
              "      <td>0.0025</td>\n",
              "      <td>512</td>\n",
              "      <td>0.801913</td>\n",
              "      <td>0.823860</td>\n",
              "      <td>0.769945</td>\n",
              "      <td>0.915856</td>\n",
              "    </tr>\n",
              "    <tr>\n",
              "      <th>6</th>\n",
              "      <td>wider</td>\n",
              "      <td>0.50</td>\n",
              "      <td>0.0025</td>\n",
              "      <td>512</td>\n",
              "      <td>0.803689</td>\n",
              "      <td>0.825916</td>\n",
              "      <td>0.775410</td>\n",
              "      <td>0.915842</td>\n",
              "    </tr>\n",
              "    <tr>\n",
              "      <th>1</th>\n",
              "      <td>deep</td>\n",
              "      <td>0.25</td>\n",
              "      <td>0.0050</td>\n",
              "      <td>512</td>\n",
              "      <td>0.807923</td>\n",
              "      <td>0.826714</td>\n",
              "      <td>0.782104</td>\n",
              "      <td>0.915809</td>\n",
              "    </tr>\n",
              "    <tr>\n",
              "      <th>8</th>\n",
              "      <td>deeper</td>\n",
              "      <td>0.25</td>\n",
              "      <td>0.0025</td>\n",
              "      <td>512</td>\n",
              "      <td>0.806011</td>\n",
              "      <td>0.826123</td>\n",
              "      <td>0.781557</td>\n",
              "      <td>0.915366</td>\n",
              "    </tr>\n",
              "    <tr>\n",
              "      <th>11</th>\n",
              "      <td>deeper</td>\n",
              "      <td>0.50</td>\n",
              "      <td>0.0050</td>\n",
              "      <td>512</td>\n",
              "      <td>0.800820</td>\n",
              "      <td>0.821013</td>\n",
              "      <td>0.773770</td>\n",
              "      <td>0.914922</td>\n",
              "    </tr>\n",
              "    <tr>\n",
              "      <th>4</th>\n",
              "      <td>wider</td>\n",
              "      <td>0.25</td>\n",
              "      <td>0.0025</td>\n",
              "      <td>512</td>\n",
              "      <td>0.803962</td>\n",
              "      <td>0.827863</td>\n",
              "      <td>0.772814</td>\n",
              "      <td>0.914541</td>\n",
              "    </tr>\n",
              "  </tbody>\n",
              "</table>\n",
              "</div>"
            ],
            "text/plain": [
              "     model  dropout  learning_rate  batch_size  accuracy  precision    recall  \\\n",
              "10  deeper     0.50         0.0025         512  0.805874   0.824236  0.782240   \n",
              "3     deep     0.50         0.0050         512  0.808333   0.830886  0.777869   \n",
              "2     deep     0.50         0.0025         512  0.798224   0.824514  0.771448   \n",
              "7    wider     0.50         0.0050         512  0.808470   0.827209  0.785383   \n",
              "0     deep     0.25         0.0025         512  0.801913   0.823860  0.769945   \n",
              "6    wider     0.50         0.0025         512  0.803689   0.825916  0.775410   \n",
              "1     deep     0.25         0.0050         512  0.807923   0.826714  0.782104   \n",
              "8   deeper     0.25         0.0025         512  0.806011   0.826123  0.781557   \n",
              "11  deeper     0.50         0.0050         512  0.800820   0.821013  0.773770   \n",
              "4    wider     0.25         0.0025         512  0.803962   0.827863  0.772814   \n",
              "\n",
              "         auc  \n",
              "10  0.916996  \n",
              "3   0.916431  \n",
              "2   0.916407  \n",
              "7   0.916170  \n",
              "0   0.915856  \n",
              "6   0.915842  \n",
              "1   0.915809  \n",
              "8   0.915366  \n",
              "11  0.914922  \n",
              "4   0.914541  "
            ]
          },
          "execution_count": 36,
          "metadata": {},
          "output_type": "execute_result"
        }
      ],
      "source": [
        "kfold_stats = dict_to_dataframe(stats)\n",
        "\n",
        "kfold_stats.sort_values(by=['auc'], ascending=False).head(10)"
      ]
    },
    {
      "cell_type": "code",
      "execution_count": null,
      "metadata": {
        "id": "4GYs5Cecadc7"
      },
      "outputs": [],
      "source": [
        "# the best parameters by AUC are:\n",
        "# model = deeper\n",
        "# dropout = 0.5\n",
        "# learning_rate = 0.0025\n",
        "# batch_size = 512"
      ]
    },
    {
      "cell_type": "code",
      "execution_count": null,
      "metadata": {
        "id": "u0ENEvCOadc7"
      },
      "outputs": [],
      "source": [
        "# optimal parameters are taken out from our k-fold grid-search stats\n",
        "best_params = {\n",
        "    'model': deeper,\n",
        "    'dropout': 0.5,\n",
        "    'learning_rate': 0.0025,\n",
        "    'batch_size': 512\n",
        "}\n",
        "\n",
        "best_model = clone_model(best_params['model'])\n",
        "best_model.layers[1] = best_params['dropout'] # dropout layer\n",
        "\n",
        "best_model.compile(optimizer=RMSprop(learning_rate=best_params['learning_rate']),\n",
        "                   loss=LOSS_FUNC, metrics=METRICS)\n",
        "\n",
        "history = best_model.fit(X_train, y_train,\n",
        "                         class_weight=CLASS_WEIGHT,\n",
        "                         batch_size=best_params['batch_size'], epochs=EPOCHS,\n",
        "                         validation_data=(X_val, y_val),\n",
        "                         callbacks=[EARLY_STOP],\n",
        "                         verbose=0)"
      ]
    },
    {
      "cell_type": "code",
      "execution_count": null,
      "metadata": {
        "id": "H0z-9REsadc7",
        "outputId": "7e599a95-bd32-4041-b407-419736f4f222"
      },
      "outputs": [
        {
          "name": "stdout",
          "output_type": "stream",
          "text": [
            "Accuracy (Validation): 0.81 (Naive Baseline = 0.63)\n",
            "Precision (Validation): 0.82\n",
            "Recall (Validation): 0.79\n",
            "AUC (Validation): 0.92\n"
          ]
        }
      ],
      "source": [
        "validation_scores = best_model.evaluate(X_val, y_val, verbose=0)[1:]\n",
        "\n",
        "print('Accuracy (Validation): {:.2f} (Naive Baseline = {:.2f})'.format(validation_scores[0], naive_baseline))\n",
        "print('Precision (Validation): {:.2f}'.format(validation_scores[1]))\n",
        "print('Recall (Validation): {:.2f}'.format(validation_scores[2]))\n",
        "print('AUC (Validation): {:.2f}'.format(validation_scores[3]))"
      ]
    },
    {
      "cell_type": "code",
      "execution_count": null,
      "metadata": {
        "id": "JfN5HsBoadc7",
        "outputId": "4bb8c237-d55c-4d2d-dc9a-f1e0f95de32a"
      },
      "outputs": [
        {
          "data": {
            "image/png": "[encoded data removed]",
            "text/plain": [
              "<Figure size 640x480 with 1 Axes>"
            ]
          },
          "metadata": {},
          "output_type": "display_data"
        }
      ],
      "source": [
        "plot_training_history(history, monitor='loss')"
      ]
    },
    {
      "cell_type": "code",
      "execution_count": null,
      "metadata": {
        "id": "36qMj8Mqadc7",
        "outputId": "d1bf9187-1446-4981-9ae7-7134593fec33"
      },
      "outputs": [
        {
          "name": "stdout",
          "output_type": "stream",
          "text": [
            "Accuracy (Test): 0.80 (Naive Baseline = 0.63)\n",
            "Precision (Test): 0.81\n",
            "Recall (Test): 0.78\n",
            "AUC (Test): 0.91\n"
          ]
        }
      ],
      "source": [
        "test_scores = best_model.evaluate(X_test, y_test, verbose=0)[1:]\n",
        "\n",
        "print('Accuracy (Test): {:.2f} (Naive Baseline = {:.2f})'.format(test_scores[0], naive_baseline))\n",
        "print('Precision (Test): {:.2f}'.format(test_scores[1]))\n",
        "print('Recall (Test): {:.2f}'.format(test_scores[2]))\n",
        "print('AUC (Test): {:.2f}'.format(test_scores[3]))"
      ]
    },
    {
      "cell_type": "code",
      "execution_count": null,
      "metadata": {
        "id": "eCzkZhRPadc7",
        "outputId": "cfaf90bf-6173-4341-85a0-de092abb0109"
      },
      "outputs": [
        {
          "name": "stdout",
          "output_type": "stream",
          "text": [
            "Model: \"l2exp\"\n",
            "_________________________________________________________________\n",
            " Layer (type)                Output Shape              Param #   \n",
            "=================================================================\n",
            " dense_12 (Dense)            (None, 64)                320064    \n",
            "                                                                 \n",
            " dense_13 (Dense)            (None, 64)                4160      \n",
            "                                                                 \n",
            " dense_14 (Dense)            (None, 3)                 195       \n",
            "                                                                 \n",
            "=================================================================\n",
            "Total params: 324,419\n",
            "Trainable params: 324,419\n",
            "Non-trainable params: 0\n",
            "_________________________________________________________________\n"
          ]
        }
      ],
      "source": [
        "ALPHA = 0.001\n",
        "\n",
        "l2exp = Sequential(\n",
        "    [\n",
        "        Dense(64, activation='relu', kernel_regularizer=l2(ALPHA), input_shape=(INPUT_DIMENSION,)),\n",
        "        Dense(64, activation='relu', kernel_regularizer=l2(ALPHA), input_shape=(INPUT_DIMENSION,)),\n",
        "        Dense(OUTPUT_CLASSES, activation='softmax')\n",
        "    ]\n",
        ")\n",
        "\n",
        "l2exp._name = 'l2exp'\n",
        "\n",
        "l2exp.summary()"
      ]
    },
    {
      "cell_type": "code",
      "execution_count": null,
      "metadata": {
        "id": "pEv6O4wLadc7"
      },
      "outputs": [],
      "source": [
        "l2exp.compile(optimizer=RMSprop(learning_rate=best_params['learning_rate']),\n",
        "              loss=LOSS_FUNC, metrics=METRICS)\n",
        "\n",
        "l2exp_history = l2exp.fit(X_train, y_train,\n",
        "                          class_weight=CLASS_WEIGHT,\n",
        "                          batch_size=best_params['batch_size'], epochs=EPOCHS,\n",
        "                          validation_data=(X_val, y_val),\n",
        "                          callbacks=[EARLY_STOP],\n",
        "                          verbose=0)"
      ]
    },
    {
      "cell_type": "code",
      "execution_count": null,
      "metadata": {
        "id": "omjZquc3adc7",
        "outputId": "5b264c5d-bc10-4868-fce0-bb26ed290729"
      },
      "outputs": [
        {
          "data": {
            "image/png": "[encoded data removed]",
            "text/plain": [
              "<Figure size 640x480 with 1 Axes>"
            ]
          },
          "metadata": {},
          "output_type": "display_data"
        }
      ],
      "source": [
        "plot_training_history(l2exp_history, monitor='loss')"
      ]
    },
    {
      "cell_type": "code",
      "execution_count": null,
      "metadata": {
        "id": "DLJ9yoLAadc8",
        "outputId": "1687f431-dad3-419a-e8e5-7056955b006e"
      },
      "outputs": [
        {
          "name": "stdout",
          "output_type": "stream",
          "text": [
            "Accuracy (Validation): 0.81 (Naive Baseline = 0.63)\n",
            "Precision (Validation): 0.84\n",
            "Recall (Validation): 0.77\n",
            "AUC (Validation): 0.92\n"
          ]
        }
      ],
      "source": [
        "validation_scores = l2exp.evaluate(X_val, y_val, verbose=0)[1:]\n",
        "\n",
        "print('Accuracy (Validation): {:.2f} (Naive Baseline = {:.2f})'.format(validation_scores[0], naive_baseline))\n",
        "print('Precision (Validation): {:.2f}'.format(validation_scores[1]))\n",
        "print('Recall (Validation): {:.2f}'.format(validation_scores[2]))\n",
        "print('AUC (Validation): {:.2f}'.format(validation_scores[3]))"
      ]
    },
    {
      "cell_type": "code",
      "execution_count": null,
      "metadata": {
        "id": "jPXgtLIdadc8",
        "outputId": "26720aba-9e19-4262-b9a6-14e4b09e427e"
      },
      "outputs": [
        {
          "name": "stdout",
          "output_type": "stream",
          "text": [
            "Accuracy (Test): 0.80 (Naive Baseline = 0.63)\n",
            "Precision (Test): 0.83\n",
            "Recall (Test): 0.76\n",
            "AUC (Test): 0.91\n"
          ]
        }
      ],
      "source": [
        "test_scores = l2exp.evaluate(X_test, y_test, verbose=0)[1:]\n",
        "\n",
        "print('Accuracy (Test): {:.2f} (Naive Baseline = {:.2f})'.format(test_scores[0], naive_baseline))\n",
        "print('Precision (Test): {:.2f}'.format(test_scores[1]))\n",
        "print('Recall (Test): {:.2f}'.format(test_scores[2]))\n",
        "print('AUC (Test): {:.2f}'.format(test_scores[3]))"
      ]
    },
    {
      "cell_type": "code",
      "execution_count": null,
      "metadata": {
        "id": "TN67tSoeadc8"
      },
      "outputs": [],
      "source": []
    }
  ],
  "metadata": {
    "accelerator": "GPU",
    "colab": {
      "provenance": [],
      "include_colab_link": true
    },
    "gpuClass": "standard",
    "kernelspec": {
      "display_name": "Python 3 (ipykernel)",
      "language": "python",
      "name": "python3"
    },
    "language_info": {
      "codemirror_mode": {
        "name": "ipython",
        "version": 3
      },
      "file_extension": ".py",
      "mimetype": "text/x-python",
      "name": "python",
      "nbconvert_exporter": "python",
      "pygments_lexer": "ipython3",
      "version": "3.9.13"
    }
  },
  "nbformat": 4,
  "nbformat_minor": 0
}