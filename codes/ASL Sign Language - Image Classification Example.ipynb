{
  "cells": [
    {
      "cell_type": "markdown",
      "metadata": {
        "id": "view-in-github",
        "colab_type": "text"
      },
      "source": [
        "<a href=\"https://colab.research.google.com/github/sreent/dense-neural-networks/blob/main/codes/ASL%20Sign%20Language%20-%20Image%20Classification%20Example.ipynb\" target=\"_parent\"><img src=\"https://colab.research.google.com/assets/colab-badge.svg\" alt=\"Open In Colab\"/></a>"
      ]
    },
    {
      "cell_type": "markdown",
      "metadata": {
        "id": "gDw5hUhyADgx"
      },
      "source": [
        " ## Defining the problem and assembling a dataset"
      ]
    },
    {
      "cell_type": "markdown",
      "metadata": {
        "id": "d7Afb4i4ADgz"
      },
      "source": [
        "- Kaggle ASL Alphabet Dataset\n",
        "  - https://www.kaggle.com/datasets/grassknoted/asl-alphabet\n",
        "- Multi-Class Classification Problem"
      ]
    },
    {
      "cell_type": "markdown",
      "metadata": {
        "id": "4ZIWnFR4ADg0"
      },
      "source": [
        " ## Choosing a measure of success"
      ]
    },
    {
      "cell_type": "markdown",
      "metadata": {
        "id": "Jz_dt5exADg0"
      },
      "source": [
        "- Accuracy Score\n",
        "- Precision and Recall\n",
        "- AUC"
      ]
    },
    {
      "cell_type": "markdown",
      "metadata": {
        "id": "hebQQXIfADg0"
      },
      "source": [
        "## Deciding on an evaluation protocol"
      ]
    },
    {
      "cell_type": "markdown",
      "metadata": {
        "id": "hNQeGQhxADg0"
      },
      "source": [
        "- Maintaining a hold-out validation set\n",
        "- Doing K-fold cross-validation"
      ]
    },
    {
      "cell_type": "markdown",
      "metadata": {
        "id": "6Clj-L0GADg0"
      },
      "source": [
        "## Preparing your data"
      ]
    },
    {
      "cell_type": "code",
      "source": [
        "# mount gdrive, required for downloaded dataset\n",
        "import os\n",
        "from google.colab import drive\n",
        "drive.mount(\"/content/drive\")\n",
        "\n",
        "!mkdir -p /content/drive/MyDrive/Neural\\ Networks\n",
        "!mkdir -p /content/drive/MyDrive/Neural\\ Networks/American\\ Sign\\ Language\n",
        "!mkdir -p /content/drive/MyDrive/Neural\\ Networks/American\\ Sign\\ Language/data\n",
        "\n",
        "# URL for our dataset, Tweets.csv\n",
        "URL = \"https://drive.google.com/file/d/1Df0wlpvKUSD12RAYihBI-slI1zbz-Vjj/view?usp=sharing\"\n",
        "DOWNLOAD_FILE_PATH = \"https://drive.google.com/uc?export=download&id=\" + URL.split(\"/\")[-2]\n",
        "\n",
        "# install gdown, required for download file from GDrive\n",
        "!pip -q install gdown==4.6.0\n",
        "import gdown\n",
        "gdown.download(DOWNLOAD_FILE_PATH, \"/content/drive/MyDrive/Neural Networks/American Sign Language/data/asl.zip\", quiet=True)\n",
        "\n",
        "!unzip -qq /content/drive/MyDrive/Neural\\ Networks/American\\ Sign\\ Language/data/asl.zip -d /content/drive/MyDrive/Neural\\ Networks/American\\ Sign\\ Language/data\n",
        "!rm /content/drive/MyDrive/Neural\\ Networks/American\\ Sign\\ Language/data/asl.zip"
      ],
      "metadata": {
        "colab": {
          "base_uri": "https://localhost:8080/"
        },
        "id": "ZISEb366AptX",
        "outputId": "fde46332-d1a8-4ea4-ef07-997203e7e123"
      },
      "execution_count": 9,
      "outputs": [
        {
          "output_type": "stream",
          "name": "stdout",
          "text": [
            "Drive already mounted at /content/drive; to attempt to forcibly remount, call drive.mount(\"/content/drive\", force_remount=True).\n"
          ]
        }
      ]
    },
    {
      "cell_type": "code",
      "source": [
        "!ls /content/drive/MyDrive/Neural\\ Networks/American\\ Sign\\ Language/data/asl"
      ],
      "metadata": {
        "colab": {
          "base_uri": "https://localhost:8080/"
        },
        "id": "u37WMgfiChsZ",
        "outputId": "dbd83654-f681-4232-cfde-becd6b82b2be"
      },
      "execution_count": 11,
      "outputs": [
        {
          "output_type": "stream",
          "name": "stdout",
          "text": [
            "A  B  C\n"
          ]
        }
      ]
    },
    {
      "cell_type": "code",
      "execution_count": 33,
      "metadata": {
        "id": "i4S0tiStcOxV"
      },
      "outputs": [],
      "source": [
        "import os\n",
        "import pandas as pd\n",
        "import numpy as np\n",
        "\n",
        "from sklearn.preprocessing import LabelEncoder, OneHotEncoder, StandardScaler\n",
        "from sklearn.preprocessing import OneHotEncoder\n",
        "from sklearn.model_selection import train_test_split\n",
        "from sklearn.model_selection import StratifiedKFold\n",
        "from sklearn.utils.class_weight import compute_class_weight\n",
        "from sklearn.metrics import accuracy_score, precision_score, recall_score, roc_auc_score\n",
        "from sklearn.metrics import balanced_accuracy_score, confusion_matrix, ConfusionMatrixDisplay\n",
        "\n",
        "from PIL import Image\n",
        "from skimage.color import rgb2gray\n",
        "\n",
        "import tensorflow as tf\n",
        "from keras.utils import to_categorical\n",
        "from keras.models import Sequential\n",
        "from keras.layers import Dense, Dropout, Flatten\n",
        "from keras.callbacks import EarlyStopping\n",
        "from keras.optimizers import Adam\n",
        "from tensorflow.keras.optimizers import RMSprop\n",
        "from tensorflow.keras.metrics import F1Score, AUC\n",
        "\n",
        "import itertools\n",
        "import matplotlib.pyplot as plt\n",
        "\n",
        "SEED = 204\n",
        "\n",
        "tf.random.set_seed(SEED)\n",
        "np.random.seed(SEED)\n",
        "\n",
        "import warnings\n",
        "warnings.filterwarnings('ignore')"
      ]
    },
    {
      "cell_type": "code",
      "execution_count": 14,
      "metadata": {
        "id": "GrNZu-6bADg2"
      },
      "outputs": [],
      "source": [
        "def get_image(file, size=(32, 32), gray=True) :\n",
        "    img = Image.open(file_path)\n",
        "\n",
        "    img = img.resize(size, Image.ANTIALIAS)\n",
        "\n",
        "    if gray :\n",
        "        img = rgb2gray(img)\n",
        "\n",
        "    return np.array(img)"
      ]
    },
    {
      "cell_type": "code",
      "execution_count": 15,
      "metadata": {
        "id": "_xdmaQAGADg2"
      },
      "outputs": [],
      "source": [
        "DATASET = \"/content/drive/MyDrive/Neural Networks/American Sign Language/data/asl\"\n",
        "IMAGE_SIZE = (32, 32)\n",
        "SAMPLE_SIZE = 3000\n",
        "\n",
        "images, labels = [], []\n",
        "for folder in os.listdir(DATASET) :\n",
        "    for file in os.listdir(DATASET + '/' + folder)[:SAMPLE_SIZE] :\n",
        "        file_path = DATASET + '/' + folder + '/' + file\n",
        "\n",
        "        image = get_image(file_path, size=IMAGE_SIZE, gray=True)\n",
        "        images.append( image )\n",
        "\n",
        "        labels.append(folder)\n",
        "\n",
        "X = np.array(images)\n",
        "labels = np.array(labels)"
      ]
    },
    {
      "cell_type": "code",
      "execution_count": 16,
      "metadata": {
        "id": "8b45yRKqADg2"
      },
      "outputs": [],
      "source": [
        "label_encoder = LabelEncoder()\n",
        "label_encoder.fit(labels)\n",
        "\n",
        "y = to_categorical(label_encoder.transform(labels))"
      ]
    },
    {
      "cell_type": "code",
      "execution_count": 18,
      "metadata": {
        "id": "56OwSnYEADg2"
      },
      "outputs": [],
      "source": [
        "TEST_SIZE = 0.15\n",
        "\n",
        "X_train, X_test, y_train, y_test = train_test_split(X, y,\n",
        "                                        test_size=TEST_SIZE, stratify=y,\n",
        "                                        shuffle=True, random_state=SEED)"
      ]
    },
    {
      "cell_type": "code",
      "execution_count": 19,
      "metadata": {
        "id": "2otx2EbBADg2"
      },
      "outputs": [],
      "source": [
        "# normalise pixels from [0, 255] to [0, 1]\n",
        "X_train, X_test = X_train/255, X_test/255"
      ]
    },
    {
      "cell_type": "code",
      "execution_count": 20,
      "metadata": {
        "id": "bW8THJPcADg3"
      },
      "outputs": [],
      "source": [
        "VALIDATION_SIZE = X_test.shape[0]\n",
        "\n",
        "X_train, X_val, y_train, y_val = train_test_split(X_train, y_train,\n",
        "                                                 test_size=VALIDATION_SIZE, stratify=y_train,\n",
        "                                                 shuffle=True, random_state=SEED)"
      ]
    },
    {
      "cell_type": "markdown",
      "metadata": {
        "id": "-bEMyom0ADg3"
      },
      "source": [
        "##  Developing a model that does better than a baseline"
      ]
    },
    {
      "cell_type": "code",
      "execution_count": 30,
      "metadata": {
        "colab": {
          "base_uri": "https://localhost:8080/"
        },
        "id": "lcT55TAqADg3",
        "outputId": "296c18c7-97bb-4cc5-da1e-6f2dd12795b9"
      },
      "outputs": [
        {
          "output_type": "execute_result",
          "data": {
            "text/plain": [
              "(3000, 3000, 3000)"
            ]
          },
          "metadata": {},
          "execution_count": 30
        }
      ],
      "source": [
        "len(labels[labels=='A']), len(labels[labels=='B']), len(labels[labels=='C'])"
      ]
    },
    {
      "cell_type": "code",
      "execution_count": 31,
      "metadata": {
        "colab": {
          "base_uri": "https://localhost:8080/"
        },
        "id": "-eXnn5qQADg3",
        "outputId": "41892464-403e-4c7d-9cce-aa6f1f286c8b"
      },
      "outputs": [
        {
          "output_type": "execute_result",
          "data": {
            "text/plain": [
              "0.3333333333333333"
            ]
          },
          "metadata": {},
          "execution_count": 31
        }
      ],
      "source": [
        "naive_baseline = len(labels[labels=='A']) / len(labels)\n",
        "\n",
        "naive_baseline"
      ]
    },
    {
      "cell_type": "code",
      "execution_count": 44,
      "metadata": {
        "id": "6VMij2DNADg3"
      },
      "outputs": [],
      "source": [
        "INPUT_DIMENSION = (32, 32, 1)\n",
        "OUTPUT_CLASSES = 3\n",
        "\n",
        "OPTIMIZER = 'rmsprop'\n",
        "LOSS_FUNC = 'categorical_crossentropy'\n",
        "METRICS = ['categorical_accuracy']\n",
        "\n",
        "MONITOR = 'val_loss'\n",
        "PATIENCE = 5\n",
        "\n",
        "EARLY_STOP = EarlyStopping(monitor=MONITOR, restore_best_weights=True, patience=PATIENCE, verbose=0)"
      ]
    },
    {
      "cell_type": "code",
      "execution_count": 56,
      "metadata": {
        "colab": {
          "base_uri": "https://localhost:8080/"
        },
        "id": "_cNg9eRKADg4",
        "outputId": "c6446a4e-4ba7-4678-8bde-220ca8348e03"
      },
      "outputs": [
        {
          "output_type": "stream",
          "name": "stdout",
          "text": [
            "Model: \"baseline\"\n",
            "_________________________________________________________________\n",
            " Layer (type)                Output Shape              Param #   \n",
            "=================================================================\n",
            " flatten (Flatten)           (None, 1024)              0         \n",
            "                                                                 \n",
            " output (Dense)              (None, 3)                 3075      \n",
            "                                                                 \n",
            "=================================================================\n",
            "Total params: 3075 (12.01 KB)\n",
            "Trainable params: 3075 (12.01 KB)\n",
            "Non-trainable params: 0 (0.00 Byte)\n",
            "_________________________________________________________________\n"
          ]
        }
      ],
      "source": [
        "baseline = Sequential(\n",
        "    [\n",
        "        Flatten(input_shape=INPUT_DIMENSION, name=\"flatten\"),\n",
        "        Dense(OUTPUT_CLASSES, activation='softmax', name=\"output\")\n",
        "    ],\n",
        "    name=\"baseline\"\n",
        ")\n",
        "\n",
        "baseline.summary()"
      ]
    },
    {
      "cell_type": "code",
      "execution_count": 57,
      "metadata": {
        "id": "7hUtu_40ADg4"
      },
      "outputs": [],
      "source": [
        "learning_rate = 0.1\n",
        "batch_size = 64\n",
        "\n",
        "EPOCHS = 100"
      ]
    },
    {
      "cell_type": "code",
      "execution_count": 58,
      "metadata": {
        "id": "wSM0aMF4ADg4"
      },
      "outputs": [],
      "source": [
        "baseline.compile(optimizer=RMSprop(learning_rate=learning_rate),\n",
        "                 loss=LOSS_FUNC, metrics=METRICS)"
      ]
    },
    {
      "cell_type": "code",
      "execution_count": 59,
      "metadata": {
        "id": "56_1UZCiADg4"
      },
      "outputs": [],
      "source": [
        "baseline_history = baseline.fit(X_train, y_train,\n",
        "                                batch_size=batch_size, epochs=EPOCHS,\n",
        "                                validation_data=(X_val, y_val),\n",
        "                                callbacks=[EARLY_STOP],\n",
        "                                verbose=0)"
      ]
    },
    {
      "cell_type": "code",
      "execution_count": 60,
      "metadata": {
        "colab": {
          "base_uri": "https://localhost:8080/"
        },
        "id": "cV1XkGO2ADg4",
        "outputId": "2752e734-4276-49da-8e57-ca997ac3c114"
      },
      "outputs": [
        {
          "output_type": "stream",
          "name": "stdout",
          "text": [
            "Accuracy (Validation): 0.74 (Naive Baseline=0.33)\n"
          ]
        }
      ],
      "source": [
        "baseline_scores = baseline.evaluate(X_val, y_val, verbose=0)[1:]\n",
        "\n",
        "print('Accuracy (Validation): {:.2f} (Naive Baseline={:.2f})'.format(baseline_scores[0], naive_baseline))"
      ]
    },
    {
      "cell_type": "code",
      "execution_count": 61,
      "metadata": {
        "id": "-tqnjaqzADg4"
      },
      "outputs": [],
      "source": [
        "def plot_training_history(history, monitor='loss') :\n",
        "    loss, val_loss = history.history[monitor], history.history['val_' + monitor]\n",
        "\n",
        "    epochs = range(1, len(loss)+1)\n",
        "\n",
        "    plt.plot(epochs, loss, 'b.', label=monitor)\n",
        "    plt.plot(epochs, val_loss, 'r.', label='Validation ' + monitor)\n",
        "    plt.xlim([0, len(loss)])\n",
        "    plt.title('Training and Validation ' + monitor + 's')\n",
        "    plt.xlabel('Epochs')\n",
        "    plt.ylabel(monitor)\n",
        "    plt.legend()\n",
        "    plt.grid()\n",
        "    _ = plt.show()"
      ]
    },
    {
      "cell_type": "code",
      "execution_count": 62,
      "metadata": {
        "id": "dNzQH9Srwt5R",
        "colab": {
          "base_uri": "https://localhost:8080/",
          "height": 472
        },
        "outputId": "26b31f5f-be39-4f8c-ec3e-e541e856d647"
      },
      "outputs": [
        {
          "output_type": "display_data",
          "data": {
            "text/plain": [
              "<Figure size 640x480 with 1 Axes>"
            ],
            "image/png": "[encoded data removed]"
          },
          "metadata": {}
        }
      ],
      "source": [
        "plot_training_history(baseline_history, monitor='loss')"
      ]
    },
    {
      "cell_type": "markdown",
      "metadata": {
        "id": "esO9-fbvADg4"
      },
      "source": [
        " ## Scaling up: developing a model that overfits"
      ]
    },
    {
      "cell_type": "code",
      "execution_count": 135,
      "metadata": {
        "colab": {
          "base_uri": "https://localhost:8080/"
        },
        "id": "2kRq0sn4ADg5",
        "outputId": "e1419648-63ec-476e-c7ce-28395839b704"
      },
      "outputs": [
        {
          "output_type": "stream",
          "name": "stdout",
          "text": [
            "Model: \"overfit\"\n",
            "_________________________________________________________________\n",
            " Layer (type)                Output Shape              Param #   \n",
            "=================================================================\n",
            " flatten (Flatten)           (None, 1024)              0         \n",
            "                                                                 \n",
            " hidden (Dense)              (None, 4)                 4100      \n",
            "                                                                 \n",
            " output (Dense)              (None, 3)                 15        \n",
            "                                                                 \n",
            "=================================================================\n",
            "Total params: 4115 (16.07 KB)\n",
            "Trainable params: 4115 (16.07 KB)\n",
            "Non-trainable params: 0 (0.00 Byte)\n",
            "_________________________________________________________________\n"
          ]
        }
      ],
      "source": [
        "overfit = Sequential(\n",
        "    [\n",
        "        Flatten(input_shape=INPUT_DIMENSION, name=\"flatten\"),\n",
        "        Dense(4, activation=\"relu\", name=\"hidden\"),\n",
        "        Dense(OUTPUT_CLASSES, activation=\"softmax\", name=\"output\")\n",
        "    ],\n",
        "    name=\"overfit\"\n",
        ")\n",
        "\n",
        "overfit.summary()"
      ]
    },
    {
      "cell_type": "code",
      "execution_count": 136,
      "metadata": {
        "id": "M1kQag8OADg5"
      },
      "outputs": [],
      "source": [
        "learning_rate = 0.01\n",
        "\n",
        "overfit.compile(optimizer=RMSprop(learning_rate=learning_rate),\n",
        "                loss=LOSS_FUNC, metrics=METRICS)"
      ]
    },
    {
      "cell_type": "code",
      "execution_count": 137,
      "metadata": {
        "id": "khjD_safADg5"
      },
      "outputs": [],
      "source": [
        "EPOCHS = 100\n",
        "batch_size=512\n",
        "\n",
        "overfit_history = overfit.fit(X_train, y_train,\n",
        "                              batch_size=batch_size, epochs=EPOCHS,\n",
        "                              validation_data=(X_val, y_val),\n",
        "                              callbacks=[],\n",
        "                              verbose=0)"
      ]
    },
    {
      "cell_type": "code",
      "source": [
        "overfit_scores = overfit.evaluate(X_val, y_val, verbose=0)[1:]\n",
        "\n",
        "print('Accuracy (Validation): {:.2f} (Naive Baseline = {:.2f})'.format(overfit_scores[0], naive_baseline))"
      ],
      "metadata": {
        "colab": {
          "base_uri": "https://localhost:8080/"
        },
        "id": "ZUKHnNB9JF6F",
        "outputId": "451cf330-c94e-41b0-f384-d916952aa957"
      },
      "execution_count": 138,
      "outputs": [
        {
          "output_type": "stream",
          "name": "stdout",
          "text": [
            "Accuracy (Validation): 0.61 (Naive Baseline = 0.33)\n"
          ]
        }
      ]
    },
    {
      "cell_type": "code",
      "source": [
        "plot_training_history(overfit_history, monitor='loss')"
      ],
      "metadata": {
        "colab": {
          "base_uri": "https://localhost:8080/",
          "height": 472
        },
        "id": "kbZbfohyJIo2",
        "outputId": "e7b37739-fcfc-4159-aaaa-e1449217054c"
      },
      "execution_count": 139,
      "outputs": [
        {
          "output_type": "display_data",
          "data": {
            "text/plain": [
              "<Figure size 640x480 with 1 Axes>"
            ],
            "image/png": "[encoded data removed]"
          },
          "metadata": {}
        }
      ]
    },
    {
      "cell_type": "code",
      "execution_count": null,
      "metadata": {
        "id": "nnEb10auADg9"
      },
      "outputs": [],
      "source": []
    }
  ],
  "metadata": {
    "accelerator": "GPU",
    "colab": {
      "provenance": [],
      "include_colab_link": true
    },
    "gpuClass": "standard",
    "kernelspec": {
      "display_name": "Python 3 (ipykernel)",
      "language": "python",
      "name": "python3"
    },
    "language_info": {
      "codemirror_mode": {
        "name": "ipython",
        "version": 3
      },
      "file_extension": ".py",
      "mimetype": "text/x-python",
      "name": "python",
      "nbconvert_exporter": "python",
      "pygments_lexer": "ipython3",
      "version": "3.9.13"
    }
  },
  "nbformat": 4,
  "nbformat_minor": 0
}